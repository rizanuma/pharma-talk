{
 "cells": [
  {
   "cell_type": "code",
   "execution_count": 1,
   "id": "cd03490a",
   "metadata": {},
   "outputs": [],
   "source": [
    "try:\n",
    "    import json\n",
    "    import os\n",
    "    import uuid\n",
    "\n",
    "    import pandas as pd\n",
    "    import numpy as np\n",
    "\n",
    "    import elasticsearch\n",
    "    from elasticsearch import Elasticsearch\n",
    "    from elasticsearch import helpers\n",
    "    from sentence_transformers import SentenceTransformer, util\n",
    "    from tqdm import tqdm\n",
    "    from dotenv import load_dotenv\n",
    "    load_dotenv(\"secret.env\")\n",
    "\n",
    "except Exception as e:\n",
    "    print(\"Some Modules are Missing :{}\".format(e))\n",
    "\n",
    "es_host = \"localhost\"\n",
    "es_port = 9200\n",
    "es_scheme = 'http'\n",
    "\n",
    "node_config = {\n",
    "    'scheme': es_scheme,\n",
    "    'host': es_host,\n",
    "    'port': es_port,\n",
    "}\n",
    "es = Elasticsearch([node_config])\n"
   ]
  },
  {
   "cell_type": "code",
   "execution_count": 2,
   "id": "4aeb87c0",
   "metadata": {},
   "outputs": [
    {
     "name": "stdout",
     "output_type": "stream",
     "text": [
      "Connected to Elasticsearch\n",
      "Elasticsearch Endpoint: http://localhost:9200\n"
     ]
    }
   ],
   "source": [
    "try:\n",
    "    # Attempt to create an Elasticsearch connection\n",
    "    es = Elasticsearch([node_config])\n",
    "    print(\"Connected to Elasticsearch\")\n",
    "\n",
    "    # Check Elasticsearch endpoint (for debugging)\n",
    "    print(f\"Elasticsearch Endpoint: {node_config['scheme']}://{node_config['host']}:{node_config['port']}\")\n",
    "\n",
    "except Exception as e:\n",
    "    print(f\"Error: {e}\")"
   ]
  },
  {
   "cell_type": "code",
   "execution_count": 3,
   "id": "9b2dff93",
   "metadata": {},
   "outputs": [],
   "source": [
    "class Reader(object):\n",
    "    def __init__(self, file_name):\n",
    "        self.file_name = file_name\n",
    "\n",
    "    def run(self):\n",
    "        df = pd.read_csv(self.file_name)\n",
    "        df = df.fillna(\"\")  # Fill NaN values with empty strings\n",
    "        return df"
   ]
  },
  {
   "cell_type": "code",
   "execution_count": 4,
   "id": "e61aa09d",
   "metadata": {},
   "outputs": [],
   "source": [
    "class Tokenizer(object):\n",
    "    def __init__(self):\n",
    "        self.model = SentenceTransformer('all-MiniLM-L6-v2')\n",
    "\n",
    "    def get_token(self, documents):\n",
    "        sentences = [documents]\n",
    "        sentence_embeddings = self.model.encode(sentences)\n",
    "        _ = list(sentence_embeddings.flatten())\n",
    "        encod_np_array = np.array(_)\n",
    "        encod_list = encod_np_array.tolist()\n",
    "        return encod_list"
   ]
  },
  {
   "cell_type": "code",
   "execution_count": 5,
   "id": "aa59634c",
   "metadata": {},
   "outputs": [],
   "source": [
    "class ElasticSearchImports(object):\n",
    "    def __init__(self, df, index_name='posting'):\n",
    "        self.df = df\n",
    "        self.index_name = index_name\n",
    "        self.es = Elasticsearch([{'host': 'localhost', 'port': 4028, 'scheme': 'http'}])\n",
    "\n",
    "    def run(self):\n",
    "        elk_data = self.df.to_dict(\"records\")\n",
    "        for job in elk_data:\n",
    "            try:\n",
    "                self.es.index(index=self.index_name, document=job)\n",
    "            except Exception as e:\n",
    "                pass\n",
    "        return True\n"
   ]
  },
  {
   "cell_type": "code",
   "execution_count": 6,
   "id": "f6e0a178",
   "metadata": {},
   "outputs": [],
   "source": [
    "helper = Reader(file_name=\"C:\\\\Users\\\\putariza\\\\Documents\\\\Documents\\\\ML\\\\nlp lab\\\\pharma-talk\\\\medicine_dataset.csv\")\n",
    "df = helper.run()"
   ]
  },
  {
   "cell_type": "code",
   "execution_count": null,
   "id": "4dad6bda",
   "metadata": {},
   "outputs": [],
   "source": [
    "tqdm.pandas()\n",
    "helper_token = Tokenizer()\n",
    "df[\"vectors\"] = df[\"Drugs\"].progress_apply(helper_token.get_token)"
   ]
  },
  {
   "cell_type": "code",
   "execution_count": null,
   "id": "59a15669",
   "metadata": {},
   "outputs": [],
   "source": [
    "helper_elk = ElasticSearchImports(df=df)\n",
    "helper_elk.run()"
   ]
  },
  {
   "cell_type": "code",
   "execution_count": null,
   "id": "7a969f06",
   "metadata": {},
   "outputs": [],
   "source": [
    "# Replace this input query with the drug name you want to search for\n",
    "INPUT = input(\"Enter Query: \")\n",
    "\n",
    "# Tokenize the input query\n",
    "helper_token = Tokenizer()\n",
    "token_vector = helper_token.get_token(INPUT)\n",
    "\n",
    "# Query Elasticsearch\n",
    "query = {\n",
    "    \"size\": 50,\n",
    "    \"_source\": \"Drugs\",\n",
    "    \"query\": {\n",
    "        \"bool\": {\n",
    "            \"must\": [\n",
    "                {\n",
    "                    \"knn\": {\n",
    "                        \"vectors\": {\n",
    "                            \"vector\": token_vector,\n",
    "                            \"k\": 20\n",
    "                        }\n",
    "                    }\n",
    "                }\n",
    "            ]\n",
    "        }\n",
    "    }\n",
    "}\n",
    "\n",
    "es = Elasticsearch(timeout=600, hosts=os.getenv(\"ENDPOINT\"))\n",
    "res = es.search(index='posting',\n",
    "                size=50,\n",
    "                body=query,\n",
    "                request_timeout=55)\n",
    "\n",
    "titles = [hit['_source']['Drugs'] for hit in res['hits']['hits']]\n",
    "\n",
    "print(\"Drugs that were found based on your query:\")\n",
    "for title in titles:\n",
    "    print(title)\n"
   ]
  },
  {
   "cell_type": "code",
   "execution_count": null,
   "id": "2a38771e",
   "metadata": {},
   "outputs": [],
   "source": []
  }
 ],
 "metadata": {
  "kernelspec": {
   "display_name": "Python 3 (ipykernel)",
   "language": "python",
   "name": "python3"
  },
  "language_info": {
   "codemirror_mode": {
    "name": "ipython",
    "version": 3
   },
   "file_extension": ".py",
   "mimetype": "text/x-python",
   "name": "python",
   "nbconvert_exporter": "python",
   "pygments_lexer": "ipython3",
   "version": "3.10.2"
  }
 },
 "nbformat": 4,
 "nbformat_minor": 5
}
